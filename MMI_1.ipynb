{
 "cells": [
  {
   "cell_type": "code",
   "execution_count": 12,
   "metadata": {},
   "outputs": [],
   "source": [
    "import os\n",
    "import imp\n",
    "import matplotlib.pyplot as plt\n",
    "import numpy as np\n",
    "import math\n",
    "import pandas as pd\n",
    "import sys\n",
    "import pickle as plk\n",
    "import importlib.util\n",
    "\n",
    "###############################################################\n",
    "# LINUX PATH\n",
    "\n",
    "sys.path.append(\"/opt/lumerical/v221/api/python/\") #Default linux lumapi path\n",
    "import lumapi\n",
    "sys.path.append(os.path.dirname('/home/trainner/Documentos/Bruno/git/Photonics-main')) #Current directory\n",
    "\n",
    "\n",
    "###############################################################\n",
    "# WINDOWS PATH\n",
    "\n",
    "#spec_win = importlib.util.spec_from_file_location('lumapi', 'C:\\\\Program Files\\\\Lumerical\\\\v202\\\\api\\\\python\\\\lumapi.py')\n",
    "#lumapi = importlib.util.module_from_spec(spec_win)\n",
    "#os.add_dll_directory(\"C:/Program Files/Lumerical/v202/api/python\")\n",
    "#sys.path.append(os.path.dirname('C:/Users/Bruno Nascimento/OneDrive/Documentos/GitHub/Photonics'))\n",
    "#spec_win.loader.exec_module(lumapi)\n",
    "\n",
    "mmi = lumapi.MODE() "
   ]
  },
  {
   "cell_type": "markdown",
   "metadata": {},
   "source": [
    "# FUNÇÃO : ADD RET\n"
   ]
  },
  {
   "cell_type": "code",
   "execution_count": 13,
   "metadata": {},
   "outputs": [],
   "source": [
    "def AddRect(Nome , x_span,XSET, y_span,YSET, z_span):\n",
    "\n",
    "    mmi.switchtolayout()\n",
    "    mmi.addrect()\n",
    "\n",
    "    mmi.set({'name':Nome , 'material': 'Si (Silicon) - Palik', 'x span': x_span, 'x':XSET,\n",
    "    'y span': y_span, 'y':YSET , 'z span':z_span , 'z':0})\n"
   ]
  },
  {
   "cell_type": "markdown",
   "metadata": {},
   "source": [
    "# ADD TAPER\n"
   ]
  },
  {
   "cell_type": "code",
   "execution_count": 14,
   "metadata": {},
   "outputs": [],
   "source": [
    "def AddTapper(Nome, W_L, W_R,len,X,Y,Z):\n",
    "\n",
    "    mmi.switchtolayout()\n",
    "    mmi.addobject(\"linear_taper\")\n",
    "    \n",
    "    mmi.set({'name':Nome,'material': 'Si (Silicon) - Palik', 'angle_side':90, 'width_l': W_L, 'width_r':W_R,\n",
    "    'len':len, 'x':X, 'y':Y,'thickness':0.22e-6,'z':Z})"
   ]
  },
  {
   "cell_type": "markdown",
   "metadata": {},
   "source": [
    "# ADD PORTS "
   ]
  },
  {
   "cell_type": "code",
   "execution_count": 15,
   "metadata": {},
   "outputs": [],
   "source": [
    "def AddPort(Nome, Y, y_span,Side):\n",
    "\n",
    "    mmi.switchtolayout()\n",
    "\n",
    "    mmi.addemeport()\n",
    "\n",
    "    mmi.set({\n",
    "    'name':Nome,\n",
    "    'y':Y,\n",
    "    'y span':y_span,\n",
    "    'port location':Side,\n",
    "    \"use full simulation span\":False\n",
    "    })\n"
   ]
  },
  {
   "cell_type": "markdown",
   "metadata": {},
   "source": [
    "# ADD MESH"
   ]
  },
  {
   "cell_type": "code",
   "execution_count": 16,
   "metadata": {},
   "outputs": [],
   "source": [
    "def AddMesh(Estrutura):\n",
    "\n",
    "    mmi.switchtolayout()\n",
    "\n",
    "    mmi.addmesh()\n",
    "\n",
    "    mmi.set({\n",
    "        'based on a structure':True,\n",
    "        'structure':Estrutura,\n",
    "        'set mesh multiplier':True,\n",
    "        'override x mesh':True,\n",
    "        'override y mesh':True,\n",
    "        'override z mesh':True,\n",
    "\n",
    "        'x mesh multiplier':5,\n",
    "        'y mesh multiplier':5\n",
    "\n",
    "    })\n",
    "    "
   ]
  },
  {
   "cell_type": "markdown",
   "metadata": {},
   "source": [
    "# DELETE RET \n"
   ]
  },
  {
   "cell_type": "code",
   "execution_count": 17,
   "metadata": {},
   "outputs": [],
   "source": [
    "def DelRet(Nome):\n",
    "    mmi.setnamed(Nome)\n",
    "    mmi.delete()"
   ]
  },
  {
   "cell_type": "markdown",
   "metadata": {},
   "source": [
    "# Construção \n"
   ]
  },
  {
   "cell_type": "code",
   "execution_count": 18,
   "metadata": {},
   "outputs": [
    {
     "name": "stdout",
     "output_type": "stream",
     "text": [
      "{!!}\n",
      "\n",
      "{!!}\n",
      "\n",
      "{!!}\n",
      "\n",
      "{!!}\n",
      "\n",
      "{!!}\n",
      "\n"
     ]
    }
   ],
   "source": [
    "mmi.switchtolayout()\n",
    "mmi.deleteall()\n",
    "\n",
    "# Construindo a Box\n",
    "xb_span = 28.125e-6\n",
    "yb_span = 9e-6\n",
    "zb_span = 0.22e-6\n",
    "AddRect('Box', xb_span , xb_span/2, yb_span, 0, zb_span)\n",
    "\n",
    "\n",
    "#Construindo Taper(Saída)\n",
    "\n",
    "w_l = 1.33e-6\n",
    "w_r = 0.45e-6\n",
    "size_taper = 4e-6\n",
    "set_y = [3.5e-6, 1.82e-6, 0, -1.82e-6, -3.5e-6]\n",
    "\n",
    "set_z = 0\n",
    "\n",
    "#Construindo os Outputs\n",
    "\n",
    "y_s = 0.45e-6\n",
    "x_s = 4e-6\n",
    "Quant = 5\n",
    "set_x = xb_span + size_taper + (x_s/2)\n",
    "\n",
    "AddRect('Out_1',x_s, set_x ,y_s,set_y[0],zb_span)\n",
    "AddRect('Out_2',x_s, set_x ,y_s,set_y[1],zb_span)\n",
    "AddRect('Out_3',x_s, set_x ,y_s,set_y[2],zb_span)\n",
    "AddRect('Out_4',x_s, set_x ,y_s,set_y[3],zb_span)\n",
    "AddRect('Out_5',x_s, set_x ,y_s,set_y[4],zb_span)\n",
    "\n",
    "AddTapper('Tap_1',w_l,w_r,size_taper,xb_span+(size_taper/2),set_y[0],0)\n",
    "AddTapper('Tap_2',w_l,w_r,size_taper,xb_span+(size_taper/2),set_y[1],0)\n",
    "AddTapper('Tap_3',w_l,w_r,size_taper,xb_span+(size_taper/2),set_y[2],0)\n",
    "AddTapper('Tap_4',w_l,w_r,size_taper,xb_span+(size_taper/2),set_y[3],0)\n",
    "AddTapper('Tap_5',w_l,w_r,size_taper,xb_span+(size_taper/2),set_y[4],0)\n",
    "\n",
    "#Construindo input\n",
    "\n",
    "AddRect('In',x_s,(-x_s/2-size_taper) ,0.45e-6,0,zb_span)\n",
    "\n",
    "AddTapper('Tap_in',w_r,w_l-0.01e-6,size_taper,-size_taper/2,0,0)\n",
    "\n",
    "#Adicionando o EME\n",
    "\n",
    "c = mmi.getnamed('Out_2','x min')\n",
    "\n",
    "v = (mmi.getnamed('In','x min') + mmi.getnamed('In','x max'))/2\n",
    "\n",
    "mmi.switchtolayout()\n",
    "mmi.addeme()\n",
    "\n",
    "mmi.set({\"allow custom eigensolver settings\":1 ,\"display cells\":1, \"number of cell groups\":3,\n",
    "         \"group spans\": np.transpose([size_taper+(4e-6/2), xb_span, size_taper+(4e-6/2)]),\n",
    "         \"cells\":np.transpose([3, 1, 3]),\n",
    "         \"subcell method\":np.transpose([1, 0, 1]), # 0 = none,  1 = CVCS\n",
    "         \"modes\":np.transpose([10, 50, 10])})\n",
    "\n",
    "mmi.set({\"x min\":v ,\n",
    "     \"y\":0, \"y span\":1.8*yb_span,\n",
    "     \"z\":0, \"z span\":1e-6})\n",
    "\n",
    "mmi.set({\"y min bc\":\"PML\", \"y max bc\":\"PML\",\n",
    "     \"z min bc\":\"Symmetric\", \"z max bc\":\"PML\",\n",
    "     \"background material\": \"SiO2 (Glass) - Palik\",\n",
    "     \"mesh cells y\":500, \"mesh cells z\":500})\n",
    "\n",
    "\n",
    "#Adicionando as Portas\n",
    "\n",
    "mmi.selectpartial(\"EME::Ports::port\")\n",
    "mmi.delete()\n",
    "\n",
    "aumento = 1e-6\n",
    "AddPort('port_1', 0 , y_s + aumento + 1e-6, 'left')\n",
    "AddPort('port_2',set_y[0], y_s + aumento - 0.05e-6, 'right')\n",
    "AddPort('port_3',set_y[1], y_s + aumento - 0.05e-6, 'right')\n",
    "AddPort('port_4',set_y[2], y_s + aumento - 0.05e-6, 'right')\n",
    "AddPort('port_5',set_y[3], y_s + aumento - 0.05e-6, 'right')\n",
    "AddPort('port_6',set_y[4], y_s + aumento - 0.05e-6, 'right')\n",
    "\n",
    "#Adicionando Monitor\n",
    "mmi.addemeprofile()\n",
    "\n",
    "mmi.set({\n",
    "     'x min': mmi.getnamed('EME', 'x min'),\n",
    "     'x max':  xb_span + size_taper + x_s/2,\n",
    "     'y span': 1.8*yb_span\n",
    "})\n",
    "\n",
    "AddMesh('Tap_in')\n",
    "AddMesh('Tap_1')\n",
    "AddMesh('Tap_2')\n",
    "AddMesh('Tap_3')\n",
    "AddMesh('Tap_4')\n",
    "AddMesh('Tap_5')\n",
    "\n",
    "\n",
    "\n",
    "\n"
   ]
  },
  {
   "cell_type": "markdown",
   "metadata": {},
   "source": [
    "# Soma "
   ]
  },
  {
   "cell_type": "code",
   "execution_count": 82,
   "metadata": {},
   "outputs": [
    {
     "name": "stdout",
     "output_type": "stream",
     "text": [
      "A soma é de: 0.9088683404267374 \n",
      "\n",
      "A perda em dB é de: -0.41499024553019437 \n",
      "\n"
     ]
    }
   ],
   "source": [
    "#mmi.run()\n",
    "#mmi.emepropagate()\n",
    "soma = 0\n",
    "m =np.array\n",
    "index = 1\n",
    "for i in range(5):\n",
    "    index = index \n",
    "    m = mmi.getresult('EME','user s matrix')\n",
    "\n",
    "    soma = soma + abs(m[index,0])**2\n",
    "\n",
    "    index = index + 1\n",
    "   \n",
    "\n",
    "soma_db = 10*math.log10(soma)\n",
    "\n",
    "print('A soma é de:',soma,'\\n')\n",
    "\n",
    "\n",
    "print('A perda em dB é de:',soma_db,'\\n')\n",
    "\n",
    "\n",
    "\n",
    "\n",
    "\n",
    "\n"
   ]
  },
  {
   "cell_type": "markdown",
   "metadata": {},
   "source": [
    "# Sweep"
   ]
  },
  {
   "cell_type": "code",
   "execution_count": 9,
   "metadata": {},
   "outputs": [
    {
     "name": "stdout",
     "output_type": "stream",
     "text": [
      "Na  0 interação, temos que a transmissão é de:  -0.5651388668579311\n",
      "Na  1 interação, temos que a transmissão é de:  -0.5867187981106852\n",
      "Na  2 interação, temos que a transmissão é de:  -0.722677355967582\n",
      "Na  3 interação, temos que a transmissão é de:  -0.5806378852842246\n",
      "Na  4 interação, temos que a transmissão é de:  -0.4937133556007669\n",
      "Na  5 interação, temos que a transmissão é de:  -0.5398746627658817\n"
     ]
    },
    {
     "data": {
      "text/plain": [
       "Text(0.5, 1.0, 'Transmission X W_L')"
      ]
     },
     "execution_count": 9,
     "metadata": {},
     "output_type": "execute_result"
    },
    {
     "data": {
      "image/png": "[encoded data removed]",
      "text/plain": [
       "<Figure size 432x288 with 1 Axes>"
      ]
     },
     "metadata": {
      "needs_background": "light"
     },
     "output_type": "display_data"
    }
   ],
   "source": [
    "\n",
    "\n",
    "x = np.linspace(1.25e-6, 1.35e-6, 6)\n",
    " \n",
    "\n",
    "\n",
    "\n",
    "re = np.zeros(6)\n",
    "\n",
    "for i in range (6):\n",
    "    mmi.switchtolayout()\n",
    "\n",
    "    soma = 0\n",
    "    m =np.array\n",
    "\n",
    "    mmi.setnamed('Tap_1','width_l', x[i])\n",
    "    mmi.setnamed('Tap_2','width_l', x[i])\n",
    "    mmi.setnamed('Tap_3','width_l', x[i])\n",
    "    mmi.setnamed('Tap_4','width_l', x[i])\n",
    "    mmi.setnamed('Tap_5','width_l', x[i])\n",
    "\n",
    "    mmi.run()\n",
    "    mmi.emepropagate()\n",
    "  \n",
    "    index = 1\n",
    "    for j in range (5):\n",
    "        m = mmi.getresult('EME','user s matrix')\n",
    "\n",
    "        soma = soma + abs(m[index,0])**2\n",
    "\n",
    "        index = index + 1\n",
    "    \n",
    "    soma_db = 10*math.log10(soma)\n",
    "\n",
    "    re[i] = soma_db\n",
    "    print('Na ' ,i, 'interação, temos que a transmissão é de: ',soma_db)\n",
    "\n",
    "\n",
    "\n",
    "plt.plot(x, re)\n",
    "\n",
    "plt.xlabel('W_L')\n",
    "plt.ylabel('Transmission')\n",
    "\n",
    "plt.title('Transmission X W_L')\n",
    "\n"
   ]
  },
  {
   "cell_type": "markdown",
   "metadata": {},
   "source": [
    "# Teste Sweep Tds os Tappers"
   ]
  },
  {
   "cell_type": "code",
   "execution_count": null,
   "metadata": {},
   "outputs": [],
   "source": [
    "x = np.linspace(1.2e-6, 1.35e-6, 6)\n",
    "\n",
    "y = np.linspace(1.2e-6, 1.35e-6, 6)\n",
    "\n",
    "\n",
    "\n",
    "re = np.zeros(6)\n",
    "\n",
    "for j in range (6):\n",
    "    mmi.switchtolayout()\n",
    "    mmi.setnamed('Tap_in','width_r',y[j])\n",
    "    for i in range (6):\n",
    "        mmi.switchtolayout()\n",
    "\n",
    "        soma = 0\n",
    "        m =np.array\n",
    "        index = 0\n",
    "\n",
    "        mmi.setnamed('Tap_1','width_l', x[i])\n",
    "        mmi.setnamed('Tap_2','width_l', x[i])\n",
    "        mmi.setnamed('Tap_3','width_l', x[i])\n",
    "        mmi.setnamed('Tap_4','width_l', x[i])\n",
    "        mmi.setnamed('Tap_5','width_l', x[i])\n",
    "\n",
    "        mmi.run()\n",
    "        mmi.emepropagate()\n",
    "  \n",
    "\n",
    "    for j in range (6):\n",
    "        index = index \n",
    "        m = mmi.getresult('EME','user s matrix')\n",
    "\n",
    "        soma = soma + abs(m[i,0])**2\n",
    "    \n",
    "    soma_db = 10*math.log10(soma)\n",
    "\n",
    "    re[i] = soma_db\n",
    "\n",
    "    plt.plot(x, re, 'Width_l', 'Transmissão', title = 'Para y(j)')"
   ]
  },
  {
   "cell_type": "markdown",
   "metadata": {},
   "source": [
    "# Teste"
   ]
  },
  {
   "cell_type": "code",
   "execution_count": 33,
   "metadata": {},
   "outputs": [
    {
     "name": "stdout",
     "output_type": "stream",
     "text": [
      "8.594929501924322e-07\n"
     ]
    }
   ],
   "source": [
    "m = mmi.getresult('EME','user s matrix')\n",
    "\n",
    "print(abs(m[0,0])**2)"
   ]
  }
 ],
 "metadata": {
  "interpreter": {
   "hash": "7d71bb564173b1d1ba6fa19edd5b2e57090f0d1611e5a9e658c5957cb1219ca3"
  },
  "kernelspec": {
   "display_name": "Python 3.9.12 ('base')",
   "language": "python",
   "name": "python3"
  },
  "language_info": {
   "codemirror_mode": {
    "name": "ipython",
    "version": 3
   },
   "file_extension": ".py",
   "mimetype": "text/x-python",
   "name": "python",
   "nbconvert_exporter": "python",
   "pygments_lexer": "ipython3",
   "version": "3.9.12"
  },
  "orig_nbformat": 4
 },
 "nbformat": 4,
 "nbformat_minor": 2
}
