{
 "cells": [
  {
   "cell_type": "code",
   "execution_count": 3,
   "metadata": {},
   "outputs": [],
   "source": [
    "import os\n",
    "import imp\n",
    "import matplotlib.pyplot as plt\n",
    "import numpy as np\n",
    "import math\n",
    "import pandas as pd\n",
    "import sys\n",
    "import pickle as plk\n",
    "import importlib.util\n",
    "\n",
    "###############################################################\n",
    "# LINUX PATH\n",
    "\n",
    "sys.path.append(\"/opt/lumerical/v221/api/python/\") #Default linux lumapi path\n",
    "import lumapi\n",
    "sys.path.append(os.path.dirname('/home/trainner/Documentos/Bruno/git/Photonics-main')) #Current directory\n",
    "\n",
    "\n",
    "###############################################################\n",
    "# WINDOWS PATH\n",
    "\n",
    "#spec_win = importlib.util.spec_from_file_location('lumapi', 'C:\\\\Program Files\\\\Lumerical\\\\v202\\\\api\\\\python\\\\lumapi.py')\n",
    "#lumapi = importlib.util.module_from_spec(spec_win)\n",
    "#os.add_dll_directory(\"C:/Program Files/Lumerical/v202/api/python\")\n",
    "#sys.path.append(os.path.dirname('C:/Users/Bruno Nascimento/OneDrive/Documentos/GitHub/Photonics'))\n",
    "#spec_win.loader.exec_module(lumapi)\n",
    "\n",
    "mmi = lumapi.MODE() "
   ]
  },
  {
   "cell_type": "markdown",
   "metadata": {},
   "source": [
    "# FUNÇÃO : ADD RET\n"
   ]
  },
  {
   "cell_type": "code",
   "execution_count": 4,
   "metadata": {},
   "outputs": [],
   "source": [
    "def AddRect(Nome , x_span,XSET, y_span,YSET, z_span):\n",
    "\n",
    "    mmi.switchtolayout()\n",
    "    mmi.addrect()\n",
    "\n",
    "    mmi.set({'name':Nome , 'material': 'Si (Silicon) - Palik', 'x span': x_span, 'x':XSET,\n",
    "    'y span': y_span, 'y':YSET , 'z span':z_span , 'z':0})\n"
   ]
  },
  {
   "cell_type": "markdown",
   "metadata": {},
   "source": [
    "# ADD TAPER\n"
   ]
  },
  {
   "cell_type": "code",
   "execution_count": 5,
   "metadata": {},
   "outputs": [],
   "source": [
    "def AddTapper(Nome, W_L, W_R,len,X,Y,Z):\n",
    "\n",
    "    mmi.switchtolayout()\n",
    "    mmi.addobject(\"linear_taper\")\n",
    "    \n",
    "    mmi.set({'name':Nome,'material': 'Si (Silicon) - Palik', 'angle_side':90, 'width_l': W_L, 'width_r':W_R,\n",
    "    'len':len, 'x':X, 'y':Y,'thickness':0.22e-6,'z':Z})"
   ]
  },
  {
   "cell_type": "markdown",
   "metadata": {},
   "source": [
    "# ADD PORTS "
   ]
  },
  {
   "cell_type": "code",
   "execution_count": 6,
   "metadata": {},
   "outputs": [],
   "source": [
    "def AddPort(Nome, Y, y_span,Side):\n",
    "\n",
    "    mmi.switchtolayout()\n",
    "\n",
    "    mmi.addemeport()\n",
    "\n",
    "    mmi.set({\n",
    "    'name':Nome,\n",
    "    'y':Y,\n",
    "    'y span':y_span,\n",
    "    'port location':Side,\n",
    "    \"use full simulation span\":False\n",
    "    })\n"
   ]
  },
  {
   "cell_type": "markdown",
   "metadata": {},
   "source": [
    "# ADD MESH"
   ]
  },
  {
   "cell_type": "code",
   "execution_count": 7,
   "metadata": {},
   "outputs": [],
   "source": [
    "def AddMesh(Estrutura):\n",
    "\n",
    "    mmi.switchtolayout()\n",
    "\n",
    "    mmi.addmesh()\n",
    "\n",
    "    mmi.set({\n",
    "        'based on a structure':True,\n",
    "        'structure':Estrutura,\n",
    "        'set mesh multiplier':True,\n",
    "        'override x mesh':True,\n",
    "        'override y mesh':True,\n",
    "        'override z mesh':True,\n",
    "\n",
    "        'x mesh multiplier':3,\n",
    "        'y mesh multiplier':3\n",
    "\n",
    "    })\n",
    "    "
   ]
  },
  {
   "cell_type": "markdown",
   "metadata": {},
   "source": [
    "# DELETE RET \n"
   ]
  },
  {
   "cell_type": "code",
   "execution_count": 8,
   "metadata": {},
   "outputs": [],
   "source": [
    "def DelRet(Nome):\n",
    "    mmi.setnamed(Nome)\n",
    "    mmi.delete()"
   ]
  },
  {
   "cell_type": "markdown",
   "metadata": {},
   "source": [
    "# Construção \n"
   ]
  },
  {
   "cell_type": "code",
   "execution_count": 9,
   "metadata": {},
   "outputs": [
    {
     "name": "stdout",
     "output_type": "stream",
     "text": [
      "{!!}\n",
      "\n",
      "{!!}\n",
      "\n"
     ]
    },
    {
     "name": "stderr",
     "output_type": "stream",
     "text": [
      "/opt/lumerical/v221/api/python/lumapi.py:128: UserWarning: Multiple objects named '::model::mesh'. Use of this object may give unexpected results.\n",
      "  warnings.warn(message)\n"
     ]
    },
    {
     "name": "stdout",
     "output_type": "stream",
     "text": [
      "{!!}\n",
      "\n",
      "{!!}\n",
      "\n",
      "{!!}\n",
      "\n"
     ]
    }
   ],
   "source": [
    "mmi.switchtolayout()\n",
    "mmi.deleteall()\n",
    "\n",
    "# Construindo a Box\n",
    "xb_span = 28.2e-6\n",
    "yb_span = 9e-6\n",
    "zb_span = 0.22e-6\n",
    "AddRect('Box', xb_span , xb_span/2, yb_span, 0, zb_span)\n",
    "\n",
    "\n",
    "#Construindo Taper(Saída)\n",
    "\n",
    "w_l = 1.3e-6\n",
    "w_r = 0.45e-6\n",
    "size_taper = 4e-6\n",
    "set_y = [3.5e-6, 1.8e-6, 0, -1.8e-6, -3.5e-6]\n",
    "\n",
    "set_z = 0\n",
    "\n",
    "#Construindo os Outputs\n",
    "\n",
    "y_s = 0.45e-6\n",
    "x_s = 4e-6\n",
    "Quant = 5\n",
    "set_x = xb_span + size_taper + (x_s/2)\n",
    "\n",
    "AddRect('Out_1',x_s, set_x ,y_s,set_y[0],zb_span)\n",
    "AddRect('Out_2',x_s, set_x ,y_s,set_y[1],zb_span)\n",
    "AddRect('Out_3',x_s, set_x ,y_s,set_y[2],zb_span)\n",
    "AddRect('Out_4',x_s, set_x ,y_s,set_y[3],zb_span)\n",
    "AddRect('Out_5',x_s, set_x ,y_s,set_y[4],zb_span)\n",
    "\n",
    "AddTapper('Tap_1',w_l,w_r,size_taper,xb_span+(size_taper/2),set_y[0],0)\n",
    "AddTapper('Tap_2',w_l,w_r,size_taper,xb_span+(size_taper/2),set_y[1],0)\n",
    "AddTapper('Tap_3',w_l,w_r,size_taper,xb_span+(size_taper/2),set_y[2],0)\n",
    "AddTapper('Tap_4',w_l,w_r,size_taper,xb_span+(size_taper/2),set_y[3],0)\n",
    "AddTapper('Tap_5',w_l,w_r,size_taper,xb_span+(size_taper/2),set_y[4],0)\n",
    "\n",
    "#Construindo input\n",
    "\n",
    "AddRect('In',x_s,(-x_s/2-size_taper) ,0.45e-6,0,zb_span)\n",
    "\n",
    "AddTapper('Tap_in',w_r + 0.2e-6,w_l,size_taper,-size_taper/2,0,0)\n",
    "\n",
    "#Adicionando o EME\n",
    "\n",
    "c = mmi.getnamed('Out_2','x min')\n",
    "\n",
    "v = (mmi.getnamed('In','x min') + mmi.getnamed('In','x max'))/2\n",
    "\n",
    "mmi.switchtolayout()\n",
    "mmi.addeme()\n",
    "\n",
    "mmi.set({\"allow custom eigensolver settings\":1 ,\"display cells\":1, \"number of cell groups\":3,\n",
    "         \"group spans\": np.transpose([size_taper+(4e-6/2), xb_span, size_taper+(4e-6/2)]),\n",
    "         \"cells\":np.transpose([3, 1, 3]),\n",
    "         \"subcell method\":np.transpose([1, 0, 1]), # 0 = none,  1 = CVCS\n",
    "         \"modes\":np.transpose([10, 50, 10])})\n",
    "\n",
    "mmi.set({\"x min\":v ,\n",
    "     \"y\":0, \"y span\":1.8*yb_span,\n",
    "     \"z\":0, \"z span\":1e-6})\n",
    "\n",
    "mmi.set({\"y min bc\":\"PML\", \"y max bc\":\"PML\",\n",
    "     \"z min bc\":\"Symmetric\", \"z max bc\":\"PML\",\n",
    "     \"background material\": \"SiO2 (Glass) - Palik\",\n",
    "     \"mesh cells y\":350, \"mesh cells z\":350})\n",
    "\n",
    "\n",
    "#Adicionando as Portas\n",
    "\n",
    "mmi.selectpartial(\"EME::Ports::port\")\n",
    "mmi.delete()\n",
    "\n",
    "aumento = 0.4e-6\n",
    "AddPort('port_1', 0 , y_s + aumento, 'left')\n",
    "AddPort('port_2',set_y[0], y_s + aumento, 'right')\n",
    "AddPort('port_3',set_y[1], y_s + aumento, 'right')\n",
    "AddPort('port_4',set_y[2], y_s + aumento, 'right')\n",
    "AddPort('port_5',set_y[3], y_s + aumento, 'right')\n",
    "AddPort('port_6',set_y[4], y_s + aumento, 'right')\n",
    "\n",
    "#Adicionando Monitor\n",
    "mmi.addemeprofile()\n",
    "\n",
    "mmi.set({\n",
    "     'x min': mmi.getnamed('EME', 'x min'),\n",
    "     'x max': mmi.getnamed('Out_3','x max'),\n",
    "     'y span': 1.8*yb_span\n",
    "})\n",
    "\n",
    "AddMesh('Tap_in')\n",
    "AddMesh('Tap_1')\n",
    "AddMesh('Tap_2')\n",
    "AddMesh('Tap_3')\n",
    "AddMesh('Tap_4')\n",
    "AddMesh('Tap_5')\n",
    "\n",
    "\n"
   ]
  },
  {
   "cell_type": "markdown",
   "metadata": {},
   "source": [
    "# Soma "
   ]
  },
  {
   "cell_type": "code",
   "execution_count": 48,
   "metadata": {},
   "outputs": [
    {
     "name": "stdout",
     "output_type": "stream",
     "text": [
      "0.17940549576217663\n",
      "0.17718314657737344\n",
      "0.16928209848703665\n",
      "0.1771831463742953\n",
      "0.1794054961694539\n",
      "A soma é de: 0.8824593833703359 \n",
      "\n",
      "A perda em dB é de: -0.5430527459065035 \n",
      "\n"
     ]
    }
   ],
   "source": [
    "#mmi.run()\n",
    "#mmi.emepropagate()\n",
    "soma = 0\n",
    "m =np.array\n",
    "index = 1\n",
    "for i in range(5):\n",
    "    index = index \n",
    "    m = mmi.getresult('EME','user s matrix')\n",
    "\n",
    "    soma = soma + abs(m[index,0])**2\n",
    "\n",
    "    index = index + 1\n",
    "   \n",
    "\n",
    "soma_db = 10*math.log10(soma)\n",
    "\n",
    "print('A soma é de:',soma,'\\n')\n",
    "\n",
    "\n",
    "print('A perda em dB é de:',soma_db,'\\n')\n",
    "\n",
    "\n",
    "\n",
    "\n",
    "\n",
    "\n"
   ]
  },
  {
   "cell_type": "markdown",
   "metadata": {},
   "source": [
    "# Sweep"
   ]
  },
  {
   "cell_type": "code",
   "execution_count": 52,
   "metadata": {},
   "outputs": [
    {
     "ename": "LumApiError",
     "evalue": "'Operation on closed application'",
     "output_type": "error",
     "traceback": [
      "\u001b[0;31m---------------------------------------------------------------------------\u001b[0m",
      "\u001b[0;31mLumApiError\u001b[0m                               Traceback (most recent call last)",
      "\u001b[1;32m/home/trainner/Documentos/Bruno/git/Photonics-main/MMI.ipynb Cell 17'\u001b[0m in \u001b[0;36m<cell line: 8>\u001b[0;34m()\u001b[0m\n\u001b[1;32m      <a href='vscode-notebook-cell:/home/trainner/Documentos/Bruno/git/Photonics-main/MMI.ipynb#ch0000017?line=5'>6</a>\u001b[0m re \u001b[39m=\u001b[39m np\u001b[39m.\u001b[39mzeros(\u001b[39m6\u001b[39m)\n\u001b[1;32m      <a href='vscode-notebook-cell:/home/trainner/Documentos/Bruno/git/Photonics-main/MMI.ipynb#ch0000017?line=7'>8</a>\u001b[0m \u001b[39mfor\u001b[39;00m i \u001b[39min\u001b[39;00m \u001b[39mrange\u001b[39m (\u001b[39m6\u001b[39m):\n\u001b[0;32m----> <a href='vscode-notebook-cell:/home/trainner/Documentos/Bruno/git/Photonics-main/MMI.ipynb#ch0000017?line=8'>9</a>\u001b[0m     mmi\u001b[39m.\u001b[39;49mswitchtolayout()\n\u001b[1;32m     <a href='vscode-notebook-cell:/home/trainner/Documentos/Bruno/git/Photonics-main/MMI.ipynb#ch0000017?line=10'>11</a>\u001b[0m     soma \u001b[39m=\u001b[39m \u001b[39m0\u001b[39m\n\u001b[1;32m     <a href='vscode-notebook-cell:/home/trainner/Documentos/Bruno/git/Photonics-main/MMI.ipynb#ch0000017?line=11'>12</a>\u001b[0m     m \u001b[39m=\u001b[39mnp\u001b[39m.\u001b[39marray\n",
      "File \u001b[0;32m/opt/lumerical/v221/api/python/lumapi.py:1153\u001b[0m, in \u001b[0;36mLumerical.__init__.<locals>.<lambda>\u001b[0;34m(self, *args)\u001b[0m\n\u001b[1;32m   <a href='file:///opt/lumerical/v221/api/python/lumapi.py?line=1149'>1150</a>\u001b[0m     method \u001b[39m=\u001b[39m (\u001b[39mlambda\u001b[39;00m x: \u001b[39mlambda\u001b[39;00m \u001b[39mself\u001b[39m, \u001b[39m*\u001b[39margs, \u001b[39m*\u001b[39m\u001b[39m*\u001b[39mkwargs:\n\u001b[1;32m   <a href='file:///opt/lumerical/v221/api/python/lumapi.py?line=1150'>1151</a>\u001b[0m     appCallWithConstructor(\u001b[39mself\u001b[39m, x, args, \u001b[39m*\u001b[39m\u001b[39m*\u001b[39mkwargs))(name)\n\u001b[1;32m   <a href='file:///opt/lumerical/v221/api/python/lumapi.py?line=1151'>1152</a>\u001b[0m \u001b[39melse\u001b[39;00m:\n\u001b[0;32m-> <a href='file:///opt/lumerical/v221/api/python/lumapi.py?line=1152'>1153</a>\u001b[0m     method \u001b[39m=\u001b[39m (\u001b[39mlambda\u001b[39;00m x: \u001b[39mlambda\u001b[39;00m \u001b[39mself\u001b[39m, \u001b[39m*\u001b[39margs: appCall(\u001b[39mself\u001b[39;49m, x, args))(name)\n\u001b[1;32m   <a href='file:///opt/lumerical/v221/api/python/lumapi.py?line=1153'>1154</a>\u001b[0m method\u001b[39m.\u001b[39m\u001b[39m__name__\u001b[39m \u001b[39m=\u001b[39m \u001b[39mstr\u001b[39m(name)\n\u001b[1;32m   <a href='file:///opt/lumerical/v221/api/python/lumapi.py?line=1154'>1155</a>\u001b[0m \u001b[39mtry\u001b[39;00m:\n",
      "File \u001b[0;32m/opt/lumerical/v221/api/python/lumapi.py:761\u001b[0m, in \u001b[0;36mappCall\u001b[0;34m(self, name, *args)\u001b[0m\n\u001b[1;32m    <a href='file:///opt/lumerical/v221/api/python/lumapi.py?line=752'>753</a>\u001b[0m \u001b[39mdef\u001b[39;00m \u001b[39mappCall\u001b[39m(\u001b[39mself\u001b[39m, name, \u001b[39m*\u001b[39margs):\n\u001b[1;32m    <a href='file:///opt/lumerical/v221/api/python/lumapi.py?line=753'>754</a>\u001b[0m     \u001b[39m\"\"\"Calls a function in Lumerical script\u001b[39;00m\n\u001b[1;32m    <a href='file:///opt/lumerical/v221/api/python/lumapi.py?line=754'>755</a>\u001b[0m \n\u001b[1;32m    <a href='file:///opt/lumerical/v221/api/python/lumapi.py?line=755'>756</a>\u001b[0m \u001b[39m    This function calls the named Lumerical script function passing\u001b[39;00m\n\u001b[0;32m   (...)\u001b[0m\n\u001b[1;32m    <a href='file:///opt/lumerical/v221/api/python/lumapi.py?line=758'>759</a>\u001b[0m \u001b[39m    value of the Lumerical script function is returned\u001b[39;00m\n\u001b[1;32m    <a href='file:///opt/lumerical/v221/api/python/lumapi.py?line=759'>760</a>\u001b[0m \u001b[39m    \"\"\"\u001b[39;00m\n\u001b[0;32m--> <a href='file:///opt/lumerical/v221/api/python/lumapi.py?line=760'>761</a>\u001b[0m     verifyConnection(\u001b[39mself\u001b[39;49m\u001b[39m.\u001b[39;49mhandle)\n\u001b[1;32m    <a href='file:///opt/lumerical/v221/api/python/lumapi.py?line=762'>763</a>\u001b[0m     vname \u001b[39m=\u001b[39m \u001b[39m'\u001b[39m\u001b[39minternal_lum_script_\u001b[39m\u001b[39m'\u001b[39m \u001b[39m+\u001b[39m \u001b[39mstr\u001b[39m(np\u001b[39m.\u001b[39mrandom\u001b[39m.\u001b[39mrandint(\u001b[39m10000\u001b[39m, \u001b[39m100000\u001b[39m))\n\u001b[1;32m    <a href='file:///opt/lumerical/v221/api/python/lumapi.py?line=763'>764</a>\u001b[0m     vin \u001b[39m=\u001b[39m vname \u001b[39m+\u001b[39m \u001b[39m'\u001b[39m\u001b[39mi\u001b[39m\u001b[39m'\u001b[39m\n",
      "File \u001b[0;32m/opt/lumerical/v221/api/python/lumapi.py:194\u001b[0m, in \u001b[0;36mverifyConnection\u001b[0;34m(handle)\u001b[0m\n\u001b[1;32m    <a href='file:///opt/lumerical/v221/api/python/lumapi.py?line=191'>192</a>\u001b[0m \u001b[39mdef\u001b[39;00m \u001b[39mverifyConnection\u001b[39m(handle):\n\u001b[1;32m    <a href='file:///opt/lumerical/v221/api/python/lumapi.py?line=192'>193</a>\u001b[0m     \u001b[39mif\u001b[39;00m \u001b[39mnot\u001b[39;00m iapi\u001b[39m.\u001b[39mappOpened(handle):\n\u001b[0;32m--> <a href='file:///opt/lumerical/v221/api/python/lumapi.py?line=193'>194</a>\u001b[0m         \u001b[39mraise\u001b[39;00m LumApiError(\u001b[39m\"\u001b[39m\u001b[39mOperation on closed application\u001b[39m\u001b[39m\"\u001b[39m)\n",
      "\u001b[0;31mLumApiError\u001b[0m: 'Operation on closed application'"
     ]
    }
   ],
   "source": [
    "\n",
    "\n",
    "x = np.linspace(1.2e-6, 1.5e-6, 6)\n",
    " \n",
    "\n",
    "\n",
    "\n",
    "re = np.zeros(6)\n",
    "\n",
    "for i in range (6):\n",
    "    mmi.switchtolayout()\n",
    "\n",
    "    soma = 0\n",
    "    m =np.array\n",
    "\n",
    "    mmi.setnamed('Tap_1','width_l', x[i])\n",
    "    mmi.setnamed('Tap_2','width_l', x[i])\n",
    "    mmi.setnamed('Tap_3','width_l', x[i])\n",
    "    mmi.setnamed('Tap_4','width_l', x[i])\n",
    "    mmi.setnamed('Tap_5','width_l', x[i])\n",
    "\n",
    "    mmi.run()\n",
    "    mmi.emepropagate()\n",
    "  \n",
    "    index = 1\n",
    "    for j in range (5):\n",
    "        m = mmi.getresult('EME','user s matrix')\n",
    "\n",
    "        soma = soma + abs(m[index,0])**2\n",
    "\n",
    "        index = index + 1\n",
    "    \n",
    "    soma_db = 10*math.log10(soma)\n",
    "\n",
    "    re[i] = soma_db\n",
    "    print('Na ' ,i, 'interação, temos que a transmissão é de: ',soma_db)\n",
    "\n",
    "\n",
    "\n",
    "plt.plot(x, re)\n",
    "\n",
    "plt.xlabel('W_L')\n",
    "plt.ylabel('Transmission')\n",
    "\n",
    "plt.title('Transmission X W_L')\n",
    "\n"
   ]
  },
  {
   "cell_type": "markdown",
   "metadata": {},
   "source": [
    "# Teste Sweep Tds os Tappers"
   ]
  },
  {
   "cell_type": "code",
   "execution_count": null,
   "metadata": {},
   "outputs": [],
   "source": [
    "x = np.linspace(1.2e-6, 1.35e-6, 6)\n",
    "\n",
    "y = np.linspace(1.2e-6, 1.35e-6, 6)\n",
    "\n",
    "\n",
    "\n",
    "re = np.zeros(6)\n",
    "\n",
    "for j in range (6):\n",
    "    mmi.switchtolayout()\n",
    "    mmi.setnamed('Tap_in','width_r',y[j])\n",
    "    for i in range (6):\n",
    "        mmi.switchtolayout()\n",
    "\n",
    "        soma = 0\n",
    "        m =np.array\n",
    "        index = 0\n",
    "\n",
    "        mmi.setnamed('Tap_1','width_l', x[i])\n",
    "        mmi.setnamed('Tap_2','width_l', x[i])\n",
    "        mmi.setnamed('Tap_3','width_l', x[i])\n",
    "        mmi.setnamed('Tap_4','width_l', x[i])\n",
    "        mmi.setnamed('Tap_5','width_l', x[i])\n",
    "\n",
    "        mmi.run()\n",
    "        mmi.emepropagate()\n",
    "  \n",
    "\n",
    "    for j in range (6):\n",
    "        index = index \n",
    "        m = mmi.getresult('EME','user s matrix')\n",
    "\n",
    "        soma = soma + abs(m[i,0])**2\n",
    "    \n",
    "    soma_db = 10*math.log10(soma)\n",
    "\n",
    "    re[i] = soma_db\n",
    "\n",
    "    plt.plot(x, re, 'Width_l', 'Transmissão', title = 'Para y(j)')"
   ]
  },
  {
   "cell_type": "markdown",
   "metadata": {},
   "source": [
    "# Teste"
   ]
  },
  {
   "cell_type": "code",
   "execution_count": 33,
   "metadata": {},
   "outputs": [
    {
     "name": "stdout",
     "output_type": "stream",
     "text": [
      "8.594929501924322e-07\n"
     ]
    }
   ],
   "source": [
    "m = mmi.getresult('EME','user s matrix')\n",
    "\n",
    "print(abs(m[0,0])**2)"
   ]
  }
 ],
 "metadata": {
  "interpreter": {
   "hash": "7d71bb564173b1d1ba6fa19edd5b2e57090f0d1611e5a9e658c5957cb1219ca3"
  },
  "kernelspec": {
   "display_name": "Python 3.9.12 ('base')",
   "language": "python",
   "name": "python3"
  },
  "language_info": {
   "codemirror_mode": {
    "name": "ipython",
    "version": 3
   },
   "file_extension": ".py",
   "mimetype": "text/x-python",
   "name": "python",
   "nbconvert_exporter": "python",
   "pygments_lexer": "ipython3",
   "version": "3.9.12"
  },
  "orig_nbformat": 4
 },
 "nbformat": 4,
 "nbformat_minor": 2
}
